{
 "cells": [
  {
   "cell_type": "code",
   "execution_count": 1,
   "metadata": {
    "collapsed": false
   },
   "outputs": [
    {
     "name": "stdout",
     "output_type": "stream",
     "text": [
      "Populating the interactive namespace from numpy and matplotlib\n"
     ]
    }
   ],
   "source": [
    " # imports numpy library for numerical computing and pylab for plotting\n",
    "%pylab inline"
   ]
  },
  {
   "cell_type": "markdown",
   "metadata": {},
   "source": [
    "Recall that we discussed indicator random variables in class, i.e. random variables that take one of two values - 1 for success and 0 for failure. The value of said random variable is said to be the result of a bernouilli trial (for this reason, indicator variables are also called bernouilli variables). To get a value for a bernouilli trial when we know the probability of success, $p$, we simple sample a uniform distribution from 0 to 1 inclusive and check if what we get back is less than or equal to $p$. We return 1 (for success) if it is and 0 otherwise.\n",
    "\n",
    "When we have a sequence of size $n$ **independent** bernoulli trials of the same parameter $p$ and we are interested in the number of successes, we can model said sequence as a binomial distribution. We simply run $n$ such trials and count the successes. Since we store 1 for success and 0 for failure, we can simply sum and array of successes."
   ]
  },
  {
   "cell_type": "code",
   "execution_count": 2,
   "metadata": {
    "collapsed": true
   },
   "outputs": [],
   "source": [
    "\n",
    "# Performs a Bernoulli trial\n",
    "# We will discuss next class\n",
    "def bernoulli_trial(p):\n",
    "    \"\"\"\n",
    "    Runs a bernoulli trial\n",
    "    :param p: the probability of success\n",
    "    :returns 1 if success, 0 if failure\n",
    "    \"\"\"\n",
    "    m = numpy.random.random_sample() # samples from uniform distribution in [0, 1]\n",
    "    if m <= p:\n",
    "        return 1\n",
    "    return 0\n",
    "\n",
    "\n",
    "# Represents a Binomial Distribution \n",
    "# Will also discuss next class\n",
    "class BinomialDistribution(object):\n",
    "    def __init__(self, n, p):\n",
    "        self.n = n\n",
    "        self.p = p\n",
    "    \n",
    "    def sample(self):\n",
    "        results = [bernoulli_trial(self.p) for _ in range(self.n)] # runs n bernoulli trials and records results\n",
    "        return sum(results) # Gives number of successes\n",
    "\n",
    "\n",
    "    \n",
    "    \n",
    "    "
   ]
  },
  {
   "cell_type": "code",
   "execution_count": 3,
   "metadata": {
    "collapsed": false
   },
   "outputs": [
    {
     "data": {
      "text/plain": [
       "1"
      ]
     },
     "execution_count": 3,
     "metadata": {},
     "output_type": "execute_result"
    }
   ],
   "source": [
    "coin_distribuion = BinomialDistribution(2, 0.5) # Two fair coin tosses, where success is heads (i.e. n = 2 and p = 0.5)\n",
    "coin_distribuion.sample() # gives one of either 0, 1, or 2"
   ]
  },
  {
   "cell_type": "code",
   "execution_count": 4,
   "metadata": {
    "collapsed": true
   },
   "outputs": [],
   "source": [
    "results = [] # holds the results of each simulation in a list\n",
    "num_runs = 50000 # number of runs of simulation\n",
    "for _ in range(num_runs):\n",
    "    result = coin_distribuion.sample() # get result of run\n",
    "    results.append(result) # insert result to the back of the list\n"
   ]
  },
  {
   "cell_type": "code",
   "execution_count": 5,
   "metadata": {
    "collapsed": false
   },
   "outputs": [
    {
     "name": "stdout",
     "output_type": "stream",
     "text": [
      "Mean is  1.0078\n",
      "Variance is  0.49821916\n"
     ]
    }
   ],
   "source": [
    "results_mean = numpy.mean(results) # should be close to 1 as discussed in class\n",
    "results_variance = numpy.var(results) # should be close to 0.5 as discussed in class\n",
    "\n",
    "print('Mean is ', results_mean) \n",
    "print('Variance is ', results_variance)\n"
   ]
  },
  {
   "cell_type": "code",
   "execution_count": 6,
   "metadata": {
    "collapsed": false
   },
   "outputs": [
    {
     "data": {
      "text/plain": [
       "<matplotlib.text.Text at 0x10aef1d30>"
      ]
     },
     "execution_count": 6,
     "metadata": {},
     "output_type": "execute_result"
    },
    {
     "data": {
      "image/png": "[encoded data removed]",
      "text/plain": [
       "<matplotlib.figure.Figure at 0x10ad99e48>"
      ]
     },
     "metadata": {},
     "output_type": "display_data"
    }
   ],
   "source": [
    "plt.hist(results, bins=3) # plot histogram with 3 bins\n",
    "plt.xlabel('Number of Heads')\n",
    "plt.ylabel('Frequency')"
   ]
  },
  {
   "cell_type": "markdown",
   "metadata": {
    "collapsed": true
   },
   "source": [
    "As seen above, the mean of the results obtained from the simulation is close to 1, the expected mean. Similarly, the varaiance is close to 0.5. Also notice that as expected 1 was also the most frequently obtained number of heads and that the number of times we got 0 and 2 were almost the same, which should be expected as $P(X = 0)$ and $P(X = 2)$ are both 0.25"
   ]
  },
  {
   "cell_type": "code",
   "execution_count": null,
   "metadata": {
    "collapsed": true
   },
   "outputs": [],
   "source": []
  }
 ],
 "metadata": {
  "anaconda-cloud": {},
  "kernelspec": {
   "display_name": "Python [conda root]",
   "language": "python",
   "name": "conda-root-py"
  },
  "language_info": {
   "codemirror_mode": {
    "name": "ipython",
    "version": 3
   },
   "file_extension": ".py",
   "mimetype": "text/x-python",
   "name": "python",
   "nbconvert_exporter": "python",
   "pygments_lexer": "ipython3",
   "version": "3.5.2"
  }
 },
 "nbformat": 4,
 "nbformat_minor": 1
}
