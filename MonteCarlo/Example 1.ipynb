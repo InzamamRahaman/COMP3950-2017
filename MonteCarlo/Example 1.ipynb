{
 "cells": [
  {
   "cell_type": "markdown",
   "metadata": {},
   "source": [
    "Consider that a pet food company is running a promotion. They will allocate to each bag of pet food one of three tokens: P, U, or Y. A customer wins a bag of pet food if they have enough tokens to spell the word PUPPY three times. They plan to allocate tokens to bags in the following probabilities:\n",
    "\n",
    "| token | P(token) |\n",
    "|-------|----------|\n",
    "| P     | 0.5      |\n",
    "| U     | 0.13     |\n",
    "| Y     | 0.37     |\n",
    "\n",
    "We want to use Monte Carlo simulations to derive the average number of bags a customer needs to buy to get a free bag under the current rules of the campaign.\n",
    "\n",
    "Firstly, we consider that the above table represents a categorical distribution. Let us first write code to sample from this distribution using roulette wheel selection"
   ]
  },
  {
   "cell_type": "code",
   "execution_count": 2,
   "metadata": {
    "collapsed": false
   },
   "outputs": [
    {
     "name": "stdout",
     "output_type": "stream",
     "text": [
      "Populating the interactive namespace from numpy and matplotlib\n"
     ]
    },
    {
     "name": "stderr",
     "output_type": "stream",
     "text": [
      "/Users/inzamamrahaman/anaconda/lib/python3.5/site-packages/IPython/core/magics/pylab.py:161: UserWarning: pylab import has clobbered these variables: ['table']\n`%matplotlib` prevents importing * from pylab and numpy\n  \"\\n`%matplotlib` prevents importing * from pylab and numpy\"\n"
     ]
    },
    {
     "data": {
      "text/plain": [
       "'Y'"
      ]
     },
     "execution_count": 2,
     "metadata": {},
     "output_type": "execute_result"
    }
   ],
   "source": [
    "# import statements for numerical and plotting libraries\n",
    "%pylab inline \n",
    "import numpy\n",
    "\n",
    "table = {\n",
    "    'P': 0.5,\n",
    "    'U': 0.13,\n",
    "    'Y': 0.37\n",
    "}\n",
    "\n",
    "class RouletteWheel(object):\n",
    "    \n",
    "    def __init__(self, table):\n",
    "        self.elems = []\n",
    "        self.probs = []\n",
    "        for elem, prob in table.items():\n",
    "            self.elems.append(elem)\n",
    "            self.probs.append(prob)\n",
    "        self.probs = np.cumsum(self.probs)\n",
    "        \n",
    "    def sample(self):\n",
    "        u = numpy.random.uniform(0, 1)\n",
    "        for val, p in zip(self.elems, self.probs):\n",
    "            if u <= p:\n",
    "                return val\n",
    "\n",
    "wheel = RouletteWheel(table) # wheel will allow us to sample multiple times\n",
    "wheel.sample() # get a random sample"
   ]
  },
  {
   "cell_type": "markdown",
   "metadata": {},
   "source": [
    "Now let us consider the case of a single customer's sequence of purchasing bags and receiveing tokens. We assume that a customer will keep purchasing tokens until they get enough letters to spell PUPPY three times. To do this, they would need to acquire at least 9 P's , at least 3 U's, and at least 3 Y's. Thus, a single customer's acquisition of enough tokens to spell PUPPY 3 times is simply a case of randomly sampling from the distribution using *wheel.sample()* until we have enough tokens in suitable numbers."
   ]
  },
  {
   "cell_type": "code",
   "execution_count": 3,
   "metadata": {
    "collapsed": false
   },
   "outputs": [
    {
     "data": {
      "text/plain": [
       "87"
      ]
     },
     "execution_count": 3,
     "metadata": {},
     "output_type": "execute_result"
    }
   ],
   "source": [
    "def is_valid(record):\n",
    "    enough_ps = record['P'] >= 9\n",
    "    enough_us = record['U'] >= 9\n",
    "    enough_ys = record['Y'] >= 9\n",
    "    return enough_ps and enough_us and enough_ys\n",
    "\n",
    "def simulate_customer():\n",
    "    record = {\n",
    "        'P': 0,\n",
    "        'U': 0,\n",
    "        'Y': 0\n",
    "    }\n",
    "    number_of_bags = 0 # customer starts off purchasing no bags\n",
    "    while not is_valid(record): # they purchase until they have enough tokens\n",
    "        token = wheel.sample() # bag contains token\n",
    "        record[token] += 1 # add token to count\n",
    "        number_of_bags += 1 # add to number of purchases made\n",
    "    return number_of_bags\n",
    "\n",
    "simulate_customer()"
   ]
  },
  {
   "cell_type": "markdown",
   "metadata": {},
   "source": [
    "Now that we have the code to simulate for a single customer, we have all that we need for our monte carlo simulation. Remember, the core idea of monte carlo is that we simulate a random process many times (each called a **run**) and record those outputs. We can get the expected value for a process by simply taking the average of all runs. We may also be interested in the spread of the output as well as the entire distribution. We may even return all three (as shown below)"
   ]
  },
  {
   "cell_type": "code",
   "execution_count": 4,
   "metadata": {
    "collapsed": true
   },
   "outputs": [],
   "source": [
    "def monte_carlo(random_process, num_runs=10000): \n",
    "    \"\"\"\n",
    "    Uses monte carlo to get distribution of random variable under some process\n",
    "    @param random_process: the random process for a single run encoded as a function\n",
    "    @param num_runs: the number of runs \n",
    "    @return: the expected value of the random variable, the std. deviation of random variable, and distribution\n",
    "    \"\"\"\n",
    "    results = []\n",
    "    for run in range(num_runs):\n",
    "        result = random_process() # simulate process once and record result\n",
    "        results.append(result) # add result to observed distribution of results\n",
    "    expected_value = np.mean(results) # get expected value\n",
    "    std_deviation = np.std(results) # get std. deviation\n",
    "    return expected_value, std_deviation, results\n",
    "\n",
    "expected_number_of_bags, std_deviation_number_of_bags, numbers_of_bags = monte_carlo(simulate_customer)"
   ]
  },
  {
   "cell_type": "code",
   "execution_count": 5,
   "metadata": {
    "collapsed": true
   },
   "outputs": [
    {
     "name": "stdout",
     "output_type": "stream",
     "text": [
      "The expected number of bags that a customer would need to purchase is  69.343\n"
     ]
    }
   ],
   "source": [
    "print('The expected number of bags that a customer would need to purchase is ', expected_number_of_bags)"
   ]
  },
  {
   "cell_type": "markdown",
   "metadata": {},
   "source": [
    "Sometimes, it is interesting to see the distribution of the variable under study. We can learn a lot by simply plotting the results of all the runs asa histogram"
   ]
  },
  {
   "cell_type": "code",
   "execution_count": 6,
   "metadata": {},
   "outputs": [
    {
     "data": {
      "text/plain": [
       "(array([  1.04900000e+03,   2.95700000e+03,   2.98400000e+03,\n          1.84900000e+03,   7.90000000e+02,   2.68000000e+02,\n          8.00000000e+01,   2.00000000e+01,   2.00000000e+00,\n          1.00000000e+00]),\n array([  27. ,   44.1,   61.2,   78.3,   95.4,  112.5,  129.6,  146.7,\n         163.8,  180.9,  198. ]),\n <a list of 10 Patch objects>)"
      ]
     },
     "execution_count": 6,
     "metadata": {},
     "output_type": "execute_result"
    },
    {
     "data": {
      "image/png": "[encoded data removed]",
      "text/plain": [
       "<matplotlib.figure.Figure at 0x10ab905f8>"
      ]
     },
     "metadata": {},
     "output_type": "display_data"
    }
   ],
   "source": [
    "plt.hist(numbers_of_bags)"
   ]
  },
  {
   "cell_type": "markdown",
   "metadata": {},
   "source": [
    "**Bonus**\n",
    "\n",
    "Since each run is independent of each other, we can run them in parallel tospeed up the generation of the distribution, thereby allowing us to sample more values in a reasonable amount of time. In Python, we can leverage the *Pool* class of the *multiprocessing* module"
   ]
  },
  {
   "cell_type": "code",
   "execution_count": 11,
   "metadata": {},
   "outputs": [],
   "source": [
    "from multiprocessing import Pool \n",
    "\n",
    "class IndexedSampler(object):\n",
    "    def __init__(self, run):\n",
    "        self.run = run \n",
    "    def run_process(self, x):\n",
    "        return self.run()\n",
    "\n",
    "def parallel_monte_carlo(random_process, num_runs=100000):\n",
    "    pool = Pool() # process pool for parallelism\n",
    "    runner = IndexedSampler(random_process) # we can't pickle functions, so need wrapper\n",
    "    results = pool.map(runner.run_process, range(num_runs)) # run in parallel\n",
    "    expected_value = np.mean(results)\n",
    "    std_deviation = np.std(results)\n",
    "    return expected_value, std_deviation, results\n",
    "\n",
    "\n",
    "e2, s2, res2 = parallel_monte_carlo(simulate_customer)"
   ]
  },
  {
   "cell_type": "code",
   "execution_count": 12,
   "metadata": {},
   "outputs": [
    {
     "name": "stdout",
     "output_type": "stream",
     "text": [
      "Expected value  69.13452\n"
     ]
    }
   ],
   "source": [
    "print('Expected value ', e2)"
   ]
  },
  {
   "cell_type": "code",
   "execution_count": 13,
   "metadata": {},
   "outputs": [
    {
     "data": {
      "text/plain": [
       "(array([  9.42400000e+03,   2.66400000e+04,   3.10320000e+04,\n          1.90960000e+04,   9.12400000e+03,   3.38000000e+03,\n          9.92000000e+02,   2.24000000e+02,   6.80000000e+01,\n          2.00000000e+01]),\n array([  27. ,   43.4,   59.8,   76.2,   92.6,  109. ,  125.4,  141.8,\n         158.2,  174.6,  191. ]),\n <a list of 10 Patch objects>)"
      ]
     },
     "execution_count": 13,
     "metadata": {},
     "output_type": "execute_result"
    },
    {
     "data": {
      "image/png": "[encoded data removed]",
      "text/plain": [
       "<matplotlib.figure.Figure at 0x10d915358>"
      ]
     },
     "metadata": {},
     "output_type": "display_data"
    }
   ],
   "source": [
    "plt.hist(res2)"
   ]
  },
  {
   "cell_type": "code",
   "execution_count": null,
   "metadata": {},
   "outputs": [],
   "source": [
    ""
   ]
  }
 ],
 "metadata": {
  "anaconda-cloud": {},
  "kernelspec": {
   "display_name": "Python [conda root]",
   "language": "python",
   "name": "conda-root-py"
  },
  "language_info": {
   "codemirror_mode": {
    "name": "ipython",
    "version": 3.0
   },
   "file_extension": ".py",
   "mimetype": "text/x-python",
   "name": "python",
   "nbconvert_exporter": "python",
   "pygments_lexer": "ipython3",
   "version": "3.5.2"
  }
 },
 "nbformat": 4,
 "nbformat_minor": 0
}